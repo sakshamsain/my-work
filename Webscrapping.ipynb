{
  "nbformat": 4,
  "nbformat_minor": 0,
  "metadata": {
    "colab": {
      "provenance": [],
      "authorship_tag": "ABX9TyM2LV1lk2wq9wobRX1oxtEk",
      "include_colab_link": true
    },
    "kernelspec": {
      "name": "python3",
      "display_name": "Python 3"
    },
    "language_info": {
      "name": "python"
    }
  },
  "cells": [
    {
      "cell_type": "markdown",
      "metadata": {
        "id": "view-in-github",
        "colab_type": "text"
      },
      "source": [
        "<a href=\"https://colab.research.google.com/github/sakshamsain/my-work/blob/main/Webscrapping.ipynb\" target=\"_parent\"><img src=\"https://colab.research.google.com/assets/colab-badge.svg\" alt=\"Open In Colab\"/></a>"
      ]
    },
    {
      "cell_type": "code",
      "source": [
        "import requests\n",
        "import pandas as pd\n",
        "from bs4 import BeautifulSoup\n",
        "import numpy as np\n",
        "\n",
        "headers = {'User-Agent': 'Mozilla/5.0 (Windows NT 6.3; Win64; x64) AppleWebKit/537.36 (KHTML, like Gecko) Chrome/80.0.3987.162 Safari/537.36'}\n",
        "\n",
        "final = pd.DataFrame()\n",
        "\n",
        "for j in range(1, 1001):\n",
        "    webpage = requests.get('https://www.ambitionbox.com/list-of-companies?campaign=homepage_companies_widget&page={}'.format(j), headers=headers).text\n",
        "    soup = BeautifulSoup(webpage, 'lxml')\n",
        "    company = soup.find_all('div', class_='company-content-wrapper')\n",
        "\n",
        "    name = []\n",
        "    rating = []\n",
        "    reviews = []\n",
        "    ctype = []\n",
        "    hq = []\n",
        "    how_old = []\n",
        "    no_of_employee = []\n",
        "\n",
        "    for i in company:\n",
        "        try:\n",
        "            name.append(i.find('h2').text.strip())\n",
        "        except:\n",
        "            name.append(np.nan)\n",
        "\n",
        "        try:\n",
        "            rating.append(i.find('p', class_='rating').text.strip())\n",
        "        except:\n",
        "            rating.append(np.nan)\n",
        "\n",
        "        try:\n",
        "            reviews.append(i.find('a', class_='review-count').text.strip())\n",
        "        except:\n",
        "            reviews.append(np.nan)\n",
        "\n",
        "        try:\n",
        "            ctype.append(i.find_all('p', class_='infoEntity')[0].text.strip())\n",
        "        except:\n",
        "            ctype.append(np.nan)\n",
        "\n",
        "        try:\n",
        "            hq.append(i.find_all('p', class_='infoEntity')[1].text.strip())\n",
        "        except:\n",
        "            hq.append(np.nan)\n",
        "\n",
        "        try:\n",
        "            how_old.append(i.find_all('p', class_='infoEntity')[2].text.strip())\n",
        "        except:\n",
        "            how_old.append(np.nan)\n",
        "\n",
        "        try:\n",
        "            no_of_employee.append(i.find_all('p', class_='infoEntity')[3].text.strip())\n",
        "        except:\n",
        "            no_of_employee.append(np.nan)\n",
        "\n",
        "    df = pd.DataFrame({\n",
        "        'name': name,\n",
        "        'rating': rating,\n",
        "        'reviews': reviews,\n",
        "        'company_type': ctype,\n",
        "        'Head_Quarters': hq,\n",
        "        'Company_Age': how_old,\n",
        "        'No_of_Employee': no_of_employee,\n",
        "    })\n",
        "\n",
        "    # Instead of append, use pd.concat\n",
        "    final = pd.concat([final, df], ignore_index=True)\n",
        "\n",
        "# View the first 5 rows of the final DataFrame\n",
        "print(final.sample(5))\n",
        "\n",
        "# Check the shape of the DataFrame\n",
        "print(final.shape)\n",
        "final = pd.concat([final, df], ignore_index=True)\n",
        "\n",
        "# Save the final DataFrame to a CSV file\n",
        "final.to_csv('company_data.csv', index=False)\n",
        "\n",
        "print(\"Data has been saved to 'company_data.csv'\")"
      ],
      "metadata": {
        "id": "Mne-171JToR8"
      },
      "execution_count": null,
      "outputs": []
    }
  ]
}